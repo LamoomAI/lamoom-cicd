{
  "cells": [
    {
      "cell_type": "code",
      "execution_count": null,
      "metadata": {
        "id": "4w_ZNZ46ddtF"
      },
      "outputs": [],
      "source": [
        "%pip install lamoom-cicd==0.1.4"
      ]
    },
    {
      "cell_type": "code",
      "execution_count": 2,
      "metadata": {
        "id": "-5T7WYDOjrWD"
      },
      "outputs": [],
      "source": [
        "from lamoom_cicd import TestLLMResponsePipe"
      ]
    },
    {
      "cell_type": "markdown",
      "metadata": {
        "id": "czcr362ntVl0"
      },
      "source": [
        "# Initialize your `ideal_answer`, `llm_response` and `optional_params`"
      ]
    },
    {
      "cell_type": "code",
      "execution_count": 5,
      "metadata": {
        "id": "Q_wAswxetVHx"
      },
      "outputs": [],
      "source": [
        "ideal_answer = \"\"\"Blockchain is like a digital notebook that everyone can see\n",
        "            but no one can secretly change. Imagine a shared Google Doc where every change\n",
        "            is recorded forever, and no one can erase or edit past entries.\n",
        "            Instead of one company controlling it, thousands of computers around\n",
        "            the world keep copies, making it nearly impossible to hack or fake.\n",
        "            This is why it’s used for things like Bitcoin—to keep transactions\n",
        "            secure and transparent without needing a bank in the middle.\"\"\"\n",
        "\n",
        "llm_response = \"\"\"Blockchain is like a shared digital notebook where everyone has a copy.\n",
        "New records (blocks) are added in order and can’t be changed or erased.\n",
        "Each block is securely locked with a code, and everyone in the network must agree\n",
        "before adding new information. This makes blockchain transparent, secure, and\n",
        "tamper-proof, which is why it's used for things like cryptocurrency, secure transactions,\n",
        "and digital contracts.\"\"\"\n",
        "\n",
        "optional_params =  {'prompt_id': \"blockchain_prompt\"}"
      ]
    },
    {
      "cell_type": "markdown",
      "metadata": {
        "id": "WwOpSoELtkmr"
      },
      "source": [
        "# Initialize `TestLLMResponsePipe`"
      ]
    },
    {
      "cell_type": "code",
      "execution_count": null,
      "metadata": {
        "id": "D-PX2WGWtkQY"
      },
      "outputs": [],
      "source": [
        "# Works with openai, azure, gemini, claude and nebibus keys\n",
        "lamoom_pipe = TestLLMResponsePipe(threshold=75, openai_key=\"your_key\")"
      ]
    },
    {
      "cell_type": "markdown",
      "metadata": {
        "id": "wnFqAK5Ys8Cz"
      },
      "source": [
        "# 1. Manual Testing"
      ]
    },
    {
      "cell_type": "code",
      "execution_count": null,
      "metadata": {
        "id": "b0EdE8A_jjos"
      },
      "outputs": [],
      "source": [
        "result = lamoom_pipe.compare(ideal_answer, llm_response, optional_params=optional_params)\n",
        "\n",
        "print(result.score.to_dict())"
      ]
    },
    {
      "cell_type": "markdown",
      "metadata": {
        "id": "cspAD9xotFCM"
      },
      "source": [
        "# 2. Testing with CSV"
      ]
    },
    {
      "cell_type": "code",
      "execution_count": null,
      "metadata": {
        "id": "E8W2tCSVtIqr"
      },
      "outputs": [],
      "source": [
        "results = lamoom_pipe.compare_from_csv(\"your_csv_file_path\")\n",
        "for result in results:\n",
        "  print(result.score.to_dict())"
      ]
    },
    {
      "cell_type": "markdown",
      "metadata": {
        "id": "D0qbJXRMt5EG"
      },
      "source": [
        "# 3. Visualize your test results"
      ]
    },
    {
      "cell_type": "code",
      "execution_count": null,
      "metadata": {
        "id": "ycbh9-_iq5as"
      },
      "outputs": [],
      "source": [
        "lamoom_pipe.visualize_test_results()"
      ]
    }
  ],
  "metadata": {
    "colab": {
      "provenance": []
    },
    "kernelspec": {
      "display_name": "Python 3",
      "name": "python3"
    },
    "language_info": {
      "name": "python"
    }
  },
  "nbformat": 4,
  "nbformat_minor": 0
}
