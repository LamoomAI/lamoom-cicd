{
 "cells": [
  {
   "cell_type": "code",
   "execution_count": null,
   "metadata": {},
   "outputs": [],
   "source": [
    "! pip install lamoom_cicd\n",
    "! pip install openai\n",
    "! pip install pandas\n",
    "! pip install python-dotenv"
   ]
  },
  {
   "cell_type": "code",
   "execution_count": 2,
   "metadata": {},
   "outputs": [],
   "source": [
    "import sys\n",
    "sys.path.append('..')"
   ]
  },
  {
   "cell_type": "code",
   "execution_count": 3,
   "metadata": {},
   "outputs": [
    {
     "data": {
      "text/plain": [
       "True"
      ]
     },
     "execution_count": 3,
     "metadata": {},
     "output_type": "execute_result"
    }
   ],
   "source": [
    "import dotenv\n",
    "dotenv.load_dotenv()"
   ]
  },
  {
   "cell_type": "code",
   "execution_count": 4,
   "metadata": {},
   "outputs": [],
   "source": [
    "import pandas as pd"
   ]
  },
  {
   "cell_type": "code",
   "execution_count": 5,
   "metadata": {},
   "outputs": [
    {
     "name": "stderr",
     "output_type": "stream",
     "text": [
      "/Users/kateyanchenka/projects/lamoom-cicd/.venv/lib/python3.13/site-packages/tqdm/auto.py:21: TqdmWarning: IProgress not found. Please update jupyter and ipywidgets. See https://ipywidgets.readthedocs.io/en/stable/user_install.html\n",
      "  from .autonotebook import tqdm as notebook_tqdm\n"
     ]
    }
   ],
   "source": [
    "from lamoom import Prompt\n",
    "\n",
    "\n",
    "agent = Prompt(\"answer_on_medical_question\")\n",
    "\n",
    "agent.add(\"\"\"Answer on medical question of the user:\n",
    "{question}\n",
    "          \n",
    "Please first think out loud before answering.\n",
    "\"\"\", role=\"system\")\n",
    "\n",
    "\n"
   ]
  },
  {
   "cell_type": "code",
   "execution_count": 6,
   "metadata": {},
   "outputs": [],
   "source": [
    "import os\n",
    "from lamoom_cicd import TestLLMResponsePipe\n",
    "openai_key = os.getenv(\"OPENAI_API_KEY\")\n",
    "claude_api_key = os.getenv(\"CLAUDE_API_KEY\")\n",
    "lamoom_pipe = TestLLMResponsePipe(openai_key=openai_key)\n",
    "index = 0\n",
    "from lamoom import Lamoom, AIModelsBehaviour, AttemptToCall, OpenAIModel, C_128K, ClaudeAIModel\n",
    "client = Lamoom(openai_key=openai_key, claude_key=claude_api_key)"
   ]
  },
  {
   "cell_type": "code",
   "execution_count": 7,
   "metadata": {},
   "outputs": [],
   "source": [
    "from lamoom.response_parsers.response_parser import get_json_from_response\n",
    "\n",
    "gpt4o = AIModelsBehaviour(\n",
    "    attempts=[\n",
    "        AttemptToCall(\n",
    "            ai_model=OpenAIModel(\n",
    "                model=\"gpt-4o\",\n",
    "                max_tokens=C_128K\n",
    "            ),\n",
    "            weight=100,\n",
    "        ),\n",
    "    ]\n",
    ")\n",
    "\n",
    "from lamoom_cicd import TestLLMResponsePipe\n",
    "lamoom_pipe = TestLLMResponsePipe()\n",
    "results = []"
   ]
  },
  {
   "cell_type": "code",
   "execution_count": 8,
   "metadata": {},
   "outputs": [],
   "source": [
    "data_df = pd.read_csv('./test_data/medical_questions_answers.csv')"
   ]
  },
  {
   "cell_type": "code",
   "execution_count": null,
   "metadata": {},
   "outputs": [
    {
     "name": "stdout",
     "output_type": "stream",
     "text": [
      "Processing row 0\n"
     ]
    }
   ],
   "source": [
    "for index, row in data_df.iterrows():\n",
    "    print(f\"Processing row {index}\")\n",
    "    question = row['question']\n",
    "    ideal_answer = row['answer']\n",
    "    try:\n",
    "        context = {\n",
    "            'question': question,\n",
    "            'ideal_answer': ideal_answer,\n",
    "        }\n",
    "        response = client.call(\n",
    "            agent.id, context, gpt4o, \n",
    "            test_data={\n",
    "                'ideal_answer': ideal_answer\n",
    "            }\n",
    "        )\n",
    "        test_result = lamoom_pipe.compare(ideal_answer, response.content)\n",
    "        lamoom_pipe.accumulated_results.append(test_result)\n",
    "        results.append(test_result)\n",
    "    except Exception as e:\n",
    "        print(e)"
   ]
  },
  {
   "cell_type": "code",
   "execution_count": null,
   "metadata": {},
   "outputs": [
    {
     "data": {
      "image/png": "[encoded data removed]",
      "text/plain": [
       "<Figure size 1000x600 with 1 Axes>"
      ]
     },
     "metadata": {},
     "output_type": "display_data"
    }
   ],
   "source": [
    "lamoom_pipe.visualize_test_results()"
   ]
  },
  {
   "cell_type": "code",
   "execution_count": null,
   "metadata": {},
   "outputs": [],
   "source": [
    "for result in results:\n",
    "    print('\\n'.join([str(q.to_dict()) for q in result.questions]))\n",
    "    print(result.questions[0].ideal_answer)\n",
    "    print('\\n\\n')"
   ]
  }
 ],
 "metadata": {
  "kernelspec": {
   "display_name": ".venv",
   "language": "python",
   "name": "python3"
  },
  "language_info": {
   "codemirror_mode": {
    "name": "ipython",
    "version": 3
   },
   "file_extension": ".py",
   "mimetype": "text/x-python",
   "name": "python",
   "nbconvert_exporter": "python",
   "pygments_lexer": "ipython3",
   "version": "3.13.2"
  }
 },
 "nbformat": 4,
 "nbformat_minor": 2
}
